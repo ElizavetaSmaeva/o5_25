{
  "nbformat": 4,
  "nbformat_minor": 0,
  "metadata": {
    "colab": {
      "provenance": []
    },
    "kernelspec": {
      "name": "python3",
      "display_name": "Python 3"
    },
    "language_info": {
      "name": "python"
    }
  },
  "cells": [
    {
      "cell_type": "code",
      "execution_count": null,
      "metadata": {
        "id": "3KP4q6IpUG_C"
      },
      "outputs": [],
      "source": [
        "import pandas as pd\n",
        "import requests\n",
        "from io import StringIO\n",
        "from datetime import datetime\n",
        "from math import radians, sin, cos, sqrt, atan2"
      ]
    },
    {
      "cell_type": "code",
      "source": [
        "def haversine(lat1, lon1, lat2, lon2):\n",
        "    # Функция для расчета расстояния между двумя точками на Земле (в метрах)\n",
        "    R = 6371.0  # радиус Земли в км\n",
        "\n",
        "    lat1, lon1, lat2, lon2 = map(radians, [lat1, lon1, lat2, lon2])\n",
        "\n",
        "    dlat = lat2 - lat1\n",
        "    dlon = lon2 - lon1\n",
        "\n",
        "    a = sin(dlat / 2)**2 + cos(lat1) * cos(lat2) * sin(dlon / 2)**2\n",
        "    c = 2 * atan2(sqrt(a), sqrt(1 - a))\n",
        "\n",
        "    distance = R * c * 1000  # переводим в метры\n",
        "    return distance"
      ],
      "metadata": {
        "id": "qivP-qajdQJT"
      },
      "execution_count": null,
      "outputs": []
    },
    {
      "cell_type": "code",
      "source": [
        "# Обработка данных такси\n",
        "def process_taxi_data(filepath):\n",
        "    taxi_df = pd.read_csv(filepath)\n",
        "\n",
        "    # Рассчитываем время поездки в минутах\n",
        "    pickup_time = pd.to_datetime(taxi_df['tpep_pickup_datetime'])\n",
        "    dropoff_time = pd.to_datetime(taxi_df['tpep_dropoff_datetime'])\n",
        "    taxi_df['trip_time_min'] = (dropoff_time - pickup_time).dt.total_seconds() / 60\n",
        "\n",
        "    # Рассчитываем расстояние поездки в метрах (переводим из миль)\n",
        "    taxi_df['trip_distance_m'] = taxi_df['trip_distance'] * 1609.34\n",
        "\n",
        "    # Извлекаем час дня\n",
        "    taxi_df['hour_of_day'] = pickup_time.dt.hour\n",
        "\n",
        "    # Выбираем нужные столбцы\n",
        "    taxi_df = taxi_df[['trip_time_min', 'trip_distance_m', 'hour_of_day']]\n",
        "    taxi_df['type'] = 'taxi'\n",
        "\n",
        "    return taxi_df"
      ],
      "metadata": {
        "id": "C39ypO6edUHm"
      },
      "execution_count": null,
      "outputs": []
    },
    {
      "cell_type": "code",
      "source": [
        "# Обработка данных велопроката\n",
        "def process_bike_data(filepath):\n",
        "    bike_df = pd.read_csv(filepath)\n",
        "\n",
        "    # Уже есть время в минутах\n",
        "    bike_df['trip_time_min'] = bike_df['Trip Duration'] / 60\n",
        "\n",
        "    # Рассчитываем расстояние поездки в метрах\n",
        "    bike_df['trip_distance_m'] = bike_df.apply(\n",
        "        lambda row: haversine(\n",
        "            row['Start Station Latitude'],\n",
        "            row['Start Station Longitude'],\n",
        "            row['End Station Latitude'],\n",
        "            row['End Station Longitude']\n",
        "        ),\n",
        "        axis=1\n",
        "    )\n",
        "\n",
        "    # Извлекаем час дня\n",
        "    pickup_time = pd.to_datetime(bike_df['Start Time'])\n",
        "    bike_df['hour_of_day'] = pickup_time.dt.hour\n",
        "\n",
        "    # Выбираем нужные столбцы\n",
        "    bike_df = bike_df[['trip_time_min', 'trip_distance_m', 'hour_of_day']]\n",
        "    bike_df['type'] = 'bike'\n",
        "\n",
        "    return bike_df"
      ],
      "metadata": {
        "id": "1tSwy5FEdWgH"
      },
      "execution_count": null,
      "outputs": []
    },
    {
      "cell_type": "code",
      "source": [
        "# Основная функция\n",
        "def main():\n",
        "    # Загрузка и обработка данных\n",
        "    taxi_data = process_taxi_data('yellow_tripdata_2015-01.csv')\n",
        "    bike_data = process_bike_data('NYC-BikeShare-2015-2017-combined.csv')\n",
        "\n",
        "    # Объединяем данные\n",
        "    combined_data = pd.concat([taxi_data, bike_data], ignore_index=True)\n",
        "\n",
        "    # Добавляем номер строки\n",
        "    combined_data['№'] = combined_data.index + 1\n",
        "\n",
        "    # Упорядочиваем столбцы\n",
        "    result = combined_data[['№', 'trip_time_min', 'trip_distance_m', 'hour_of_day', 'type']]\n",
        "\n",
        "    # Сохраняем результат\n",
        "    result.to_csv('combined_trips_data.csv', index=False)\n",
        "    print(\"Файл combined_trips_data.csv успешно создан.\")\n",
        "\n"
      ],
      "metadata": {
        "id": "M-MCaO0FdYwm"
      },
      "execution_count": null,
      "outputs": []
    },
    {
      "cell_type": "code",
      "source": [
        "if __name__ == \"__main__\":\n",
        "    main()"
      ],
      "metadata": {
        "colab": {
          "base_uri": "https://localhost:8080/"
        },
        "id": "ftLKlq5UdaQQ",
        "outputId": "bf462692-8530-4849-b298-63ae8d0dbfbd"
      },
      "execution_count": null,
      "outputs": [
        {
          "output_type": "stream",
          "name": "stdout",
          "text": [
            "Файл combined_trips_data.csv успешно создан.\n"
          ]
        }
      ]
    }
  ]
}